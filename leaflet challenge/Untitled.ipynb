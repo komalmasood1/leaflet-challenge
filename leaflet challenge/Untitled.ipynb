{
 "cells": [
  {
   "cell_type": "code",
   "execution_count": 13,
   "metadata": {},
   "outputs": [],
   "source": [
    "base = \"https://data.cityofnewyork.us/resource/fhrw-4uyv.json?\"\n",
    "date = \"$where=created_date between'2016-01-10T12:00:00' and '2017-01-01T14:00:00'\"\n",
    "complaint = \"&complaint_type=Rodent\"\n",
    "limit = \"&$limit=10000\"\n",
    "\n",
    "#Assemble API query URL\n",
    "url = base+ date + complaint + limit"
   ]
  },
  {
   "cell_type": "code",
   "execution_count": 14,
   "metadata": {},
   "outputs": [
    {
     "name": "stdout",
     "output_type": "stream",
     "text": [
      "https://data.cityofnewyork.us/resource/fhrw-4uyv.json?$where=created_date between'2016-01-10T12:00:00' and '2017-01-01T14:00:00'&complaint_type=Rodent&$limit=10000\n"
     ]
    }
   ],
   "source": [
    "print(url)"
   ]
  },
  {
   "cell_type": "code",
   "execution_count": null,
   "metadata": {},
   "outputs": [],
   "source": []
  },
  {
   "cell_type": "code",
   "execution_count": null,
   "metadata": {},
   "outputs": [],
   "source": []
  }
 ],
 "metadata": {
  "kernelspec": {
   "display_name": "Python 3",
   "language": "python",
   "name": "python3"
  },
  "language_info": {
   "codemirror_mode": {
    "name": "ipython",
    "version": 3
   },
   "file_extension": ".py",
   "mimetype": "text/x-python",
   "name": "python",
   "nbconvert_exporter": "python",
   "pygments_lexer": "ipython3",
   "version": "3.7.3"
  }
 },
 "nbformat": 4,
 "nbformat_minor": 2
}
